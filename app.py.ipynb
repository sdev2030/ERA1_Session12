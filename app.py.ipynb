{
 "cells": [
  {
   "cell_type": "code",
   "execution_count": 1,
   "id": "027d2c4f",
   "metadata": {},
   "outputs": [],
   "source": [
    "import sys\n",
    "sys.path.append('/home/sn/ERAv1/main_repo')"
   ]
  },
  {
   "cell_type": "code",
   "execution_count": 2,
   "id": "4bb65abd",
   "metadata": {},
   "outputs": [
    {
     "name": "stderr",
     "output_type": "stream",
     "text": [
      "/home/sn/anaconda3/envs/fastai2022/lib/python3.9/site-packages/tqdm/auto.py:22: TqdmWarning: IProgress not found. Please update jupyter and ipywidgets. See https://ipywidgets.readthedocs.io/en/stable/user_install.html\n",
      "  from .autonotebook import tqdm as notebook_tqdm\n"
     ]
    }
   ],
   "source": [
    "import torch, torchvision\n",
    "from torchvision import transforms\n",
    "import numpy as np\n",
    "import gradio as gr\n",
    "from PIL import Image\n",
    "from pytorch_grad_cam import GradCAM\n",
    "from pytorch_grad_cam.utils.image import show_cam_on_image\n",
    "import random\n",
    "\n",
    "# from models.resnet import ResNet18\n",
    "from models.s10_model import s10Model\n",
    "\n",
    "import gradio as gr"
   ]
  },
  {
   "cell_type": "code",
   "execution_count": null,
   "id": "8ee454a0",
   "metadata": {},
   "outputs": [],
   "source": [
    "# model = s10Model()\n",
    "\n",
    "# new_model = model.load_from_checkpoint('s10Model.ckpt')"
   ]
  },
  {
   "cell_type": "code",
   "execution_count": null,
   "id": "53420afa",
   "metadata": {},
   "outputs": [],
   "source": [
    "# torch.save(new_model.state_dict(), 's10Model.pth')"
   ]
  },
  {
   "cell_type": "code",
   "execution_count": 3,
   "id": "6d84fcec",
   "metadata": {},
   "outputs": [
    {
     "data": {
      "text/plain": [
       "<All keys matched successfully>"
      ]
     },
     "execution_count": 3,
     "metadata": {},
     "output_type": "execute_result"
    }
   ],
   "source": [
    "# # model = ResNet18()\n",
    "model = s10Model()\n",
    "\n",
    "# # new_model = model.load_from_checkpoint('s10Model.ckpt')\n",
    "model.load_state_dict(torch.load(\"s10Model.pth\", map_location=torch.device('cpu')), strict=False)"
   ]
  },
  {
   "cell_type": "code",
   "execution_count": 5,
   "id": "4751be6f",
   "metadata": {},
   "outputs": [
    {
     "name": "stderr",
     "output_type": "stream",
     "text": [
      "/tmp/ipykernel_15110/2082156291.py:161: GradioDeprecationWarning: The `style` method is deprecated. Please set these arguments in the constructor instead.\n",
      "  outputs = [gr.Gallery(\n"
     ]
    },
    {
     "name": "stdout",
     "output_type": "stream",
     "text": [
      "Running on local URL:  http://127.0.0.1:7861\n",
      "\n",
      "To create a public link, set `share=True` in `launch()`.\n"
     ]
    },
    {
     "data": {
      "text/html": [
       "<div><iframe src=\"http://127.0.0.1:7861/\" width=\"100%\" height=\"500\" allow=\"autoplay; camera; microphone; clipboard-read; clipboard-write;\" frameborder=\"0\" allowfullscreen></iframe></div>"
      ],
      "text/plain": [
       "<IPython.core.display.HTML object>"
      ]
     },
     "metadata": {},
     "output_type": "display_data"
    },
    {
     "data": {
      "text/plain": []
     },
     "execution_count": 5,
     "metadata": {},
     "output_type": "execute_result"
    },
    {
     "name": "stdout",
     "output_type": "stream",
     "text": [
      "uint8\n",
      "uint8\n",
      "torch.Size([1, 3, 32, 32])\n",
      "torch.Size([1, 3, 32, 32])\n",
      "torch.Size([1, 3, 32, 32])\n",
      "torch.Size([1, 3, 32, 32])\n",
      "torch.Size([1, 3, 32, 32])\n",
      "uint8\n"
     ]
    }
   ],
   "source": [
    "\n",
    "# # model = ResNet18()\n",
    "# model = s10Model()\n",
    "\n",
    "# new_model = model.load_from_checkpoint('s10Model.ckpt')\n",
    "# # model.load_state_dict(torch.load(\"s10Model.pth\", map_location=torch.device('cpu')), strict=False)\n",
    "\n",
    "inv_normalize = transforms.Normalize(\n",
    "mean=[-0.50/0.23, -0.50/0.23, -0.50/0.23],\n",
    "std=[1/0.23, 1/0.23, 1/0.23]\n",
    ")\n",
    "\n",
    "new_model = model\n",
    "\n",
    "classes = ('plane', 'car', 'bird', 'cat', 'deer',\n",
    "'dog', 'frog', 'horse', 'ship', 'truck')\n",
    "\n",
    "image_fname_prefix=['cat', 'dog', 'bird1', 'bird2', 'bird3','cars1', 'cars2', 'horse1', 'horse2', 'boat1']\n",
    "\n",
    "target = ['cat', 'dog', 'bird', 'bird', 'bird','car', 'car', 'horse', 'horse', 'ship']\n",
    "\n",
    "def display_gradcam(num_images=1, top_classes=3, transparency=0.5,target_layer_number=-1, max_images=5):\n",
    "    \n",
    "    #Set up gradcam instance\n",
    "    target_layers = [model.resblock2[target_layer_number]]\n",
    "    cam = GradCAM(model=model, target_layers=target_layers, use_cuda=False)\n",
    "    transform = transforms.ToTensor()\n",
    "    \n",
    "    confidences_list = []\n",
    "    visualization_list = []\n",
    "    \n",
    "    for i in range(num_images):\n",
    "#         a = random.randint(0,max_images-1)\n",
    "        f_prefix = image_fname_prefix[i]\n",
    "#         print(f'example_imgs/{f_prefix}.jpeg')\n",
    "        input_image = Image.open(f'example_imgs/{f_prefix}.jpeg').resize((32,32))\n",
    "        org_img = np.array(input_image).astype(np.uint8)\n",
    "        input_img = transform(input_image)\n",
    "        input_img = input_img\n",
    "        input_img = input_img.unsqueeze(0)\n",
    "        print(input_img.shape)\n",
    "\n",
    "        outputs = model(input_img)\n",
    "        softmax = torch.nn.Softmax(dim=0)\n",
    "\n",
    "        o = softmax(outputs.flatten())\n",
    "    #     o = outputs.flatten()\n",
    "\n",
    "        confidences = {classes[i]: float(o[i]) for i in range(10)}\n",
    "\n",
    "        _, prediction = torch.max(outputs, 1)\n",
    "\n",
    "        grayscale_cam = cam(input_tensor=input_img, targets=None)\n",
    "        grayscale_cam = grayscale_cam[0, :]\n",
    "\n",
    "        img = input_img.squeeze(0)\n",
    "        img = inv_normalize(img)\n",
    "        rgb_img = np.transpose(img, (1, 2, 0))\n",
    "        rgb_img = rgb_img.numpy()\n",
    "        visualization = show_cam_on_image(org_img/255, grayscale_cam, use_rgb=True, image_weight=transparency)\n",
    "        confidences_list.append(confidences)\n",
    "        visualization_list.append((visualization, classes[prediction]))\n",
    "#         caption_list.append(f_prefix)\n",
    "\n",
    "    return visualization_list, confidences_list\n",
    "        \n",
    "def display_misClassified(num_images=1, max_images=10):\n",
    "\n",
    "    transform = transforms.ToTensor()\n",
    "    \n",
    "    confidences_list = []\n",
    "    visualization_list = []\n",
    "    \n",
    "    for i in range(max_images):\n",
    "        f_prefix = image_fname_prefix[i]\n",
    "#         print(f'example_imgs/{f_prefix}.jpeg')\n",
    "        input_image = Image.open(f'example_imgs/{f_prefix}.jpeg').resize((32,32))\n",
    "        org_img = np.array(input_image).astype(np.uint8)\n",
    "        input_img = transform(input_image)\n",
    "        input_img = input_img\n",
    "        input_img = input_img.unsqueeze(0)\n",
    "#         print(input_img.shape)\n",
    "\n",
    "        outputs = model(input_img)\n",
    "        softmax = torch.nn.Softmax(dim=0)\n",
    "\n",
    "        o = softmax(outputs.flatten())\n",
    "    #     o = outputs.flatten()\n",
    "\n",
    "        confidences = {classes[i]: float(o[i]) for i in range(10)}\n",
    "\n",
    "        _, prediction = torch.max(outputs, 1)\n",
    "        \n",
    "        if classes[prediction] != target[i]:\n",
    "            confidences_list.append(confidences)\n",
    "            visualization_list.append((org_img/255, f'{classes[prediction]} / {target[i]}'))\n",
    "\n",
    "    return visualization_list, confidences_list\n",
    "\n",
    "def inference(input_img, img_type='GradCAM', num_images = 1, top_classes=3,transparency = 0.5, \n",
    "              target_layer_number = -1):\n",
    "\n",
    "    transform = transforms.ToTensor()\n",
    "    org_img = input_img\n",
    "    print(org_img.dtype)\n",
    "    input_img = transform(input_img)\n",
    "    \n",
    "    if img_type == 'GradCAM':\n",
    "        v_list, c_list = display_gradcam(num_images, top_classes, transparency,target_layer_number, max_images=10)\n",
    "    elif img_type == 'Mis-Classified':\n",
    "        v_list, c_list = display_misClassified(num_images)\n",
    "    else:\n",
    "        target_layers = [model.resblock2[target_layer_number]]\n",
    "        cam = GradCAM(model=model, target_layers=target_layers, use_cuda=False)\n",
    "        input_img = input_img\n",
    "        input_img = input_img.unsqueeze(0)\n",
    "\n",
    "        outputs = new_model(input_img)\n",
    "        softmax = torch.nn.Softmax(dim=0)\n",
    "\n",
    "        o = softmax(outputs.flatten())\n",
    "\n",
    "        confidences = {classes[i]: float(o[i]) for i in range(10)}\n",
    "\n",
    "        _, prediction = torch.max(outputs, 1)\n",
    "\n",
    "        grayscale_cam = cam(input_tensor=input_img, targets=None)\n",
    "        grayscale_cam = grayscale_cam[0, :]\n",
    "\n",
    "        img = input_img.squeeze(0)\n",
    "        img = inv_normalize(img)\n",
    "        rgb_img = np.transpose(img, (1, 2, 0))\n",
    "        rgb_img = rgb_img.numpy()\n",
    "        visualization = show_cam_on_image(org_img/255, grayscale_cam, use_rgb=True, image_weight=transparency)\n",
    "        v_list = [(visualization, classes[prediction])]\n",
    "    return  v_list #c_list\n",
    "\n",
    "#     return top_classes, confidences_list, visualization_list\n",
    "\n",
    "title = \"CIFAR10 trained on Custom Model with GradCAM\"\n",
    "description = \"A simple Gradio interface to infer on Custom model, and get GradCAM or Mis-Classified Images\"\n",
    "examples = [[\"example_imgs/cat.jpeg\",'GradCAM',5,5, 0.5, -1], \n",
    "            [\"example_imgs/dog.jpeg\",'GradCAM',5,5, 0.5, -1],\n",
    "            [\"example_imgs/bird1.jpeg\",'GradCAM',5,5, 0.5, -1],\n",
    "            [\"example_imgs/bird2.jpeg\",'GradCAM',5,5, 0.5, -1],\n",
    "            [\"example_imgs/bird3.jpeg\",'GradCAM',5,5, 0.5, -1],\n",
    "            [\"example_imgs/cars1.jpeg\",'GradCAM',5,5, 0.5, -1],\n",
    "            [\"example_imgs/cars2.jpeg\",'GradCAM',5,5, 0.5, -1],\n",
    "            [\"example_imgs/horse1.jpeg\",'GradCAM',5,5, 0.5, -1],\n",
    "            [\"example_imgs/horse2.jpeg\",'GradCAM',5,5, 0.5, -1],\n",
    "            [\"example_imgs/boat1.jpeg\",'GradCAM',5,5, 0.5, -1]\n",
    "           ]\n",
    "\n",
    "demo = gr.Interface(\n",
    "    inference, \n",
    "    inputs = [gr.Image(shape=(32, 32), label=\"Input Image\"), \n",
    "              gr.Radio(['GradCAM', 'Mis-Classified'],label=\"Type of Images\", info=\"Do you want to see GradCam or Mis-Classified images?\"), \n",
    "              gr.Slider(1, 10, value=1,step=1, label=\"How Many?\", info=\"Choose between 1 and 5\"),\n",
    "              gr.Slider(1, 10, value=1,step=1, label=\"How Many top-classes?\", info=\"Choose between 1 and 10\"),\n",
    "              gr.Slider(0, 1, value = 0.5, label=\"Opacity of GradCAM\"), \n",
    "              gr.Slider(-2, -1, value = -2, step=1, label=\"Which Layer for GradCAM?\")], \n",
    "    outputs = [gr.Gallery(\n",
    "            label=\"Generated images\", show_label=False, elem_id=\"gallery\"\n",
    "        ).style(columns=[3], rows=[2], object_fit=\"contain\", height=\"auto\")\n",
    "              ],\n",
    "    title = title,\n",
    "    description = description,\n",
    "    examples = examples,\n",
    ")\n",
    "demo.launch()"
   ]
  },
  {
   "cell_type": "code",
   "execution_count": null,
   "id": "522ffbd8",
   "metadata": {},
   "outputs": [],
   "source": [
    "# This demo needs to be run from the repo folder.\n",
    "# python demo/fake_gan/run.py\n",
    "import random\n",
    "\n",
    "import gradio as gr\n",
    "\n",
    "\n",
    "def fake_gan():\n",
    "    images = [\n",
    "        (random.choice(\n",
    "            [\n",
    "                \"https://images.unsplash.com/photo-1507003211169-0a1dd7228f2d?ixlib=rb-1.2.1&ixid=MnwxMjA3fDB8MHxwaG90by1wYWdlfHx8fGVufDB8fHx8&auto=format&fit=crop&w=387&q=80\",\n",
    "                \"https://images.unsplash.com/photo-1554151228-14d9def656e4?ixlib=rb-1.2.1&ixid=MnwxMjA3fDB8MHxwaG90by1wYWdlfHx8fGVufDB8fHx8&auto=format&fit=crop&w=386&q=80\",\n",
    "                \"https://images.unsplash.com/photo-1542909168-82c3e7fdca5c?ixlib=rb-1.2.1&ixid=MnwxMjA3fDB8MHxzZWFyY2h8MXx8aHVtYW4lMjBmYWNlfGVufDB8fDB8fA%3D%3D&w=1000&q=80\",\n",
    "                \"https://images.unsplash.com/photo-1546456073-92b9f0a8d413?ixlib=rb-1.2.1&ixid=MnwxMjA3fDB8MHxwaG90by1wYWdlfHx8fGVufDB8fHx8&auto=format&fit=crop&w=387&q=80\",\n",
    "                \"https://images.unsplash.com/photo-1601412436009-d964bd02edbc?ixlib=rb-1.2.1&ixid=MnwxMjA3fDB8MHxwaG90by1wYWdlfHx8fGVufDB8fHx8&auto=format&fit=crop&w=464&q=80\",\n",
    "            ]\n",
    "        ), f\"label {i}\" if i != 0 else \"label\" * 50)\n",
    "        for i in range(3)\n",
    "    ]\n",
    "    return images\n",
    "\n",
    "\n",
    "with gr.Blocks() as demo:\n",
    "    with gr.Column(variant=\"panel\"):\n",
    "        with gr.Row(variant=\"compact\"):\n",
    "            text = gr.Textbox(\n",
    "                label=\"Enter your prompt\",\n",
    "                show_label=False,\n",
    "                max_lines=1,\n",
    "                placeholder=\"Enter your prompt\",\n",
    "            ).style(\n",
    "                container=False,\n",
    "            )\n",
    "            btn = gr.Button(\"Generate image\").style(full_width=False)\n",
    "\n",
    "        gallery = gr.Gallery(\n",
    "            label=\"Generated images\", show_label=False, elem_id=\"gallery\"\n",
    "        ).style(columns=[2], rows=[2], object_fit=\"contain\", height=\"auto\")\n",
    "\n",
    "    btn.click(fake_gan, None, gallery)\n",
    "\n",
    "if __name__ == \"__main__\":\n",
    "    demo.launch()"
   ]
  },
  {
   "cell_type": "code",
   "execution_count": null,
   "id": "71ab803e",
   "metadata": {},
   "outputs": [],
   "source": []
  }
 ],
 "metadata": {
  "kernelspec": {
   "display_name": "Python (fastai2022)",
   "language": "python",
   "name": "fastai2022"
  },
  "language_info": {
   "codemirror_mode": {
    "name": "ipython",
    "version": 3
   },
   "file_extension": ".py",
   "mimetype": "text/x-python",
   "name": "python",
   "nbconvert_exporter": "python",
   "pygments_lexer": "ipython3",
   "version": "3.9.13"
  }
 },
 "nbformat": 4,
 "nbformat_minor": 5
}
